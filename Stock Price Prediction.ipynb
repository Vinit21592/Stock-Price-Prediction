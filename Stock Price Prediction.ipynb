{
 "cells": [
  {
   "cell_type": "markdown",
   "metadata": {},
   "source": [
    "### This program uses an artificial recurrent neural network called Long Short Term Memory (LSTM).\n",
    "### Here we will predict the closing stock prices using the past 100 days stock price"
   ]
  },
  {
   "cell_type": "code",
   "execution_count": 1,
   "metadata": {},
   "outputs": [],
   "source": [
    "#Import the libraries\n",
    "import math\n",
    "import pandas_datareader as web\n",
    "import numpy as np\n",
    "import pandas as pd\n",
    "from sklearn.preprocessing import MinMaxScaler\n",
    "from tensorflow.keras.models import Sequential\n",
    "from tensorflow.keras.layers import Dense, LSTM\n",
    "import matplotlib.pyplot as plt\n",
    "plt.style.use('fivethirtyeight')"
   ]
  },
  {
   "cell_type": "code",
   "execution_count": 2,
   "metadata": {},
   "outputs": [],
   "source": [
    "from nsepy import get_history\n",
    "from datetime import date"
   ]
  },
  {
   "cell_type": "code",
   "execution_count": 3,
   "metadata": {},
   "outputs": [],
   "source": [
    "#Get the stock quote\n",
    "df = get_history(symbol='MRF',start=date(2012,1,1), end=date(2021,12,3))"
   ]
  },
  {
   "cell_type": "code",
   "execution_count": 4,
   "metadata": {},
   "outputs": [
    {
     "data": {
      "text/html": [
       "<div>\n",
       "<style scoped>\n",
       "    .dataframe tbody tr th:only-of-type {\n",
       "        vertical-align: middle;\n",
       "    }\n",
       "\n",
       "    .dataframe tbody tr th {\n",
       "        vertical-align: top;\n",
       "    }\n",
       "\n",
       "    .dataframe thead th {\n",
       "        text-align: right;\n",
       "    }\n",
       "</style>\n",
       "<table border=\"1\" class=\"dataframe\">\n",
       "  <thead>\n",
       "    <tr style=\"text-align: right;\">\n",
       "      <th></th>\n",
       "      <th>Symbol</th>\n",
       "      <th>Series</th>\n",
       "      <th>Prev Close</th>\n",
       "      <th>Open</th>\n",
       "      <th>High</th>\n",
       "      <th>Low</th>\n",
       "      <th>Last</th>\n",
       "      <th>Close</th>\n",
       "      <th>VWAP</th>\n",
       "      <th>Volume</th>\n",
       "      <th>Turnover</th>\n",
       "      <th>Trades</th>\n",
       "      <th>Deliverable Volume</th>\n",
       "      <th>%Deliverble</th>\n",
       "    </tr>\n",
       "    <tr>\n",
       "      <th>Date</th>\n",
       "      <th></th>\n",
       "      <th></th>\n",
       "      <th></th>\n",
       "      <th></th>\n",
       "      <th></th>\n",
       "      <th></th>\n",
       "      <th></th>\n",
       "      <th></th>\n",
       "      <th></th>\n",
       "      <th></th>\n",
       "      <th></th>\n",
       "      <th></th>\n",
       "      <th></th>\n",
       "      <th></th>\n",
       "    </tr>\n",
       "  </thead>\n",
       "  <tbody>\n",
       "    <tr>\n",
       "      <td>2012-01-02</td>\n",
       "      <td>MRF</td>\n",
       "      <td>EQ</td>\n",
       "      <td>6979.20</td>\n",
       "      <td>6980.00</td>\n",
       "      <td>7040.00</td>\n",
       "      <td>6871.10</td>\n",
       "      <td>7006.00</td>\n",
       "      <td>6943.05</td>\n",
       "      <td>6935.99</td>\n",
       "      <td>4210</td>\n",
       "      <td>2.920052e+12</td>\n",
       "      <td>1563</td>\n",
       "      <td>872</td>\n",
       "      <td>0.2071</td>\n",
       "    </tr>\n",
       "    <tr>\n",
       "      <td>2012-01-03</td>\n",
       "      <td>MRF</td>\n",
       "      <td>EQ</td>\n",
       "      <td>6943.05</td>\n",
       "      <td>6950.00</td>\n",
       "      <td>7130.00</td>\n",
       "      <td>6950.00</td>\n",
       "      <td>7070.00</td>\n",
       "      <td>7069.05</td>\n",
       "      <td>7074.42</td>\n",
       "      <td>12459</td>\n",
       "      <td>8.814023e+12</td>\n",
       "      <td>2447</td>\n",
       "      <td>7479</td>\n",
       "      <td>0.6003</td>\n",
       "    </tr>\n",
       "    <tr>\n",
       "      <td>2012-01-04</td>\n",
       "      <td>MRF</td>\n",
       "      <td>EQ</td>\n",
       "      <td>7069.05</td>\n",
       "      <td>7090.00</td>\n",
       "      <td>7100.00</td>\n",
       "      <td>6981.00</td>\n",
       "      <td>6982.00</td>\n",
       "      <td>7011.50</td>\n",
       "      <td>7041.24</td>\n",
       "      <td>3368</td>\n",
       "      <td>2.371490e+12</td>\n",
       "      <td>1171</td>\n",
       "      <td>939</td>\n",
       "      <td>0.2788</td>\n",
       "    </tr>\n",
       "    <tr>\n",
       "      <td>2012-01-05</td>\n",
       "      <td>MRF</td>\n",
       "      <td>EQ</td>\n",
       "      <td>7011.50</td>\n",
       "      <td>7021.00</td>\n",
       "      <td>7087.55</td>\n",
       "      <td>6915.00</td>\n",
       "      <td>6934.00</td>\n",
       "      <td>6956.85</td>\n",
       "      <td>7033.22</td>\n",
       "      <td>15716</td>\n",
       "      <td>1.105341e+13</td>\n",
       "      <td>1520</td>\n",
       "      <td>6980</td>\n",
       "      <td>0.4441</td>\n",
       "    </tr>\n",
       "    <tr>\n",
       "      <td>2012-01-06</td>\n",
       "      <td>MRF</td>\n",
       "      <td>EQ</td>\n",
       "      <td>6956.85</td>\n",
       "      <td>6930.00</td>\n",
       "      <td>6999.00</td>\n",
       "      <td>6891.00</td>\n",
       "      <td>6974.00</td>\n",
       "      <td>6957.75</td>\n",
       "      <td>6943.01</td>\n",
       "      <td>2814</td>\n",
       "      <td>1.953763e+12</td>\n",
       "      <td>1447</td>\n",
       "      <td>481</td>\n",
       "      <td>0.1709</td>\n",
       "    </tr>\n",
       "    <tr>\n",
       "      <td>...</td>\n",
       "      <td>...</td>\n",
       "      <td>...</td>\n",
       "      <td>...</td>\n",
       "      <td>...</td>\n",
       "      <td>...</td>\n",
       "      <td>...</td>\n",
       "      <td>...</td>\n",
       "      <td>...</td>\n",
       "      <td>...</td>\n",
       "      <td>...</td>\n",
       "      <td>...</td>\n",
       "      <td>...</td>\n",
       "      <td>...</td>\n",
       "      <td>...</td>\n",
       "    </tr>\n",
       "    <tr>\n",
       "      <td>2021-11-29</td>\n",
       "      <td>MRF</td>\n",
       "      <td>EQ</td>\n",
       "      <td>75190.35</td>\n",
       "      <td>74905.00</td>\n",
       "      <td>75099.95</td>\n",
       "      <td>73050.00</td>\n",
       "      <td>73675.00</td>\n",
       "      <td>73818.25</td>\n",
       "      <td>74006.49</td>\n",
       "      <td>8554</td>\n",
       "      <td>6.330515e+13</td>\n",
       "      <td>5404</td>\n",
       "      <td>2065</td>\n",
       "      <td>0.2414</td>\n",
       "    </tr>\n",
       "    <tr>\n",
       "      <td>2021-11-30</td>\n",
       "      <td>MRF</td>\n",
       "      <td>EQ</td>\n",
       "      <td>73818.25</td>\n",
       "      <td>73541.00</td>\n",
       "      <td>75996.00</td>\n",
       "      <td>73541.00</td>\n",
       "      <td>74249.95</td>\n",
       "      <td>74630.80</td>\n",
       "      <td>74856.96</td>\n",
       "      <td>25947</td>\n",
       "      <td>1.942313e+14</td>\n",
       "      <td>13465</td>\n",
       "      <td>12805</td>\n",
       "      <td>0.4935</td>\n",
       "    </tr>\n",
       "    <tr>\n",
       "      <td>2021-12-01</td>\n",
       "      <td>MRF</td>\n",
       "      <td>EQ</td>\n",
       "      <td>74630.80</td>\n",
       "      <td>74989.90</td>\n",
       "      <td>75360.00</td>\n",
       "      <td>73501.10</td>\n",
       "      <td>73823.95</td>\n",
       "      <td>73708.60</td>\n",
       "      <td>74119.64</td>\n",
       "      <td>11738</td>\n",
       "      <td>8.700164e+13</td>\n",
       "      <td>7324</td>\n",
       "      <td>3471</td>\n",
       "      <td>0.2957</td>\n",
       "    </tr>\n",
       "    <tr>\n",
       "      <td>2021-12-02</td>\n",
       "      <td>MRF</td>\n",
       "      <td>EQ</td>\n",
       "      <td>73708.60</td>\n",
       "      <td>74124.00</td>\n",
       "      <td>74280.00</td>\n",
       "      <td>73250.10</td>\n",
       "      <td>73900.00</td>\n",
       "      <td>73881.70</td>\n",
       "      <td>73722.85</td>\n",
       "      <td>11728</td>\n",
       "      <td>8.646216e+13</td>\n",
       "      <td>6956</td>\n",
       "      <td>4093</td>\n",
       "      <td>0.3490</td>\n",
       "    </tr>\n",
       "    <tr>\n",
       "      <td>2021-12-03</td>\n",
       "      <td>MRF</td>\n",
       "      <td>EQ</td>\n",
       "      <td>73881.70</td>\n",
       "      <td>74189.95</td>\n",
       "      <td>74691.85</td>\n",
       "      <td>73764.85</td>\n",
       "      <td>73880.00</td>\n",
       "      <td>73882.30</td>\n",
       "      <td>74202.89</td>\n",
       "      <td>6322</td>\n",
       "      <td>4.691107e+13</td>\n",
       "      <td>3770</td>\n",
       "      <td>1634</td>\n",
       "      <td>0.2585</td>\n",
       "    </tr>\n",
       "  </tbody>\n",
       "</table>\n",
       "<p>2459 rows × 14 columns</p>\n",
       "</div>"
      ],
      "text/plain": [
       "           Symbol Series  Prev Close      Open      High       Low      Last  \\\n",
       "Date                                                                           \n",
       "2012-01-02    MRF     EQ     6979.20   6980.00   7040.00   6871.10   7006.00   \n",
       "2012-01-03    MRF     EQ     6943.05   6950.00   7130.00   6950.00   7070.00   \n",
       "2012-01-04    MRF     EQ     7069.05   7090.00   7100.00   6981.00   6982.00   \n",
       "2012-01-05    MRF     EQ     7011.50   7021.00   7087.55   6915.00   6934.00   \n",
       "2012-01-06    MRF     EQ     6956.85   6930.00   6999.00   6891.00   6974.00   \n",
       "...           ...    ...         ...       ...       ...       ...       ...   \n",
       "2021-11-29    MRF     EQ    75190.35  74905.00  75099.95  73050.00  73675.00   \n",
       "2021-11-30    MRF     EQ    73818.25  73541.00  75996.00  73541.00  74249.95   \n",
       "2021-12-01    MRF     EQ    74630.80  74989.90  75360.00  73501.10  73823.95   \n",
       "2021-12-02    MRF     EQ    73708.60  74124.00  74280.00  73250.10  73900.00   \n",
       "2021-12-03    MRF     EQ    73881.70  74189.95  74691.85  73764.85  73880.00   \n",
       "\n",
       "               Close      VWAP  Volume      Turnover  Trades  \\\n",
       "Date                                                           \n",
       "2012-01-02   6943.05   6935.99    4210  2.920052e+12    1563   \n",
       "2012-01-03   7069.05   7074.42   12459  8.814023e+12    2447   \n",
       "2012-01-04   7011.50   7041.24    3368  2.371490e+12    1171   \n",
       "2012-01-05   6956.85   7033.22   15716  1.105341e+13    1520   \n",
       "2012-01-06   6957.75   6943.01    2814  1.953763e+12    1447   \n",
       "...              ...       ...     ...           ...     ...   \n",
       "2021-11-29  73818.25  74006.49    8554  6.330515e+13    5404   \n",
       "2021-11-30  74630.80  74856.96   25947  1.942313e+14   13465   \n",
       "2021-12-01  73708.60  74119.64   11738  8.700164e+13    7324   \n",
       "2021-12-02  73881.70  73722.85   11728  8.646216e+13    6956   \n",
       "2021-12-03  73882.30  74202.89    6322  4.691107e+13    3770   \n",
       "\n",
       "            Deliverable Volume  %Deliverble  \n",
       "Date                                         \n",
       "2012-01-02                 872       0.2071  \n",
       "2012-01-03                7479       0.6003  \n",
       "2012-01-04                 939       0.2788  \n",
       "2012-01-05                6980       0.4441  \n",
       "2012-01-06                 481       0.1709  \n",
       "...                        ...          ...  \n",
       "2021-11-29                2065       0.2414  \n",
       "2021-11-30               12805       0.4935  \n",
       "2021-12-01                3471       0.2957  \n",
       "2021-12-02                4093       0.3490  \n",
       "2021-12-03                1634       0.2585  \n",
       "\n",
       "[2459 rows x 14 columns]"
      ]
     },
     "execution_count": 4,
     "metadata": {},
     "output_type": "execute_result"
    }
   ],
   "source": [
    "df"
   ]
  },
  {
   "cell_type": "code",
   "execution_count": 5,
   "metadata": {},
   "outputs": [
    {
     "data": {
      "text/plain": [
       "(2459, 14)"
      ]
     },
     "execution_count": 5,
     "metadata": {},
     "output_type": "execute_result"
    }
   ],
   "source": [
    "df.shape"
   ]
  },
  {
   "cell_type": "code",
   "execution_count": 6,
   "metadata": {},
   "outputs": [
    {
     "name": "stderr",
     "output_type": "stream",
     "text": [
      "C:\\Users\\TERMINATOR\\Anaconda3\\lib\\site-packages\\pandas\\plotting\\_matplotlib\\converter.py:103: FutureWarning: Using an implicitly registered datetime converter for a matplotlib plotting method. The converter was registered by pandas on import. Future versions of pandas will require you to explicitly register matplotlib converters.\n",
      "\n",
      "To register the converters:\n",
      "\t>>> from pandas.plotting import register_matplotlib_converters\n",
      "\t>>> register_matplotlib_converters()\n",
      "  warnings.warn(msg, FutureWarning)\n"
     ]
    },
    {
     "data": {
      "image/png": "[encoded data removed]",
      "text/plain": [
       "<Figure size 1152x576 with 1 Axes>"
      ]
     },
     "metadata": {
      "needs_background": "light"
     },
     "output_type": "display_data"
    }
   ],
   "source": [
    "#Visualize the closing price history\n",
    "plt.figure(figsize=(16,8))\n",
    "plt.title('Close Price History (MRF)')\n",
    "plt.plot(df['Close'])\n",
    "plt.xlabel('Date',fontsize=18)\n",
    "plt.ylabel('Close Price (INR)',fontsize=18)\n",
    "plt.show()"
   ]
  },
  {
   "cell_type": "code",
   "execution_count": 7,
   "metadata": {},
   "outputs": [
    {
     "data": {
      "text/plain": [
       "1968"
      ]
     },
     "execution_count": 7,
     "metadata": {},
     "output_type": "execute_result"
    }
   ],
   "source": [
    "#Create a new dataframe with only the Close column\n",
    "data = df.filter(['Close'])\n",
    "#Convert the dataframe to a numpy array\n",
    "dataset = data.values\n",
    "#Get the number of rows to train the model on\n",
    "training_data_len = math.ceil( len(dataset) * .8 )  # train on 80% data and then round that up with math.ceil\n",
    "training_data_len"
   ]
  },
  {
   "cell_type": "code",
   "execution_count": 8,
   "metadata": {},
   "outputs": [
    {
     "data": {
      "text/plain": [
       "array([[0.        ],\n",
       "       [0.00139952],\n",
       "       [0.0007603 ],\n",
       "       ...,\n",
       "       [0.74158566],\n",
       "       [0.74350833],\n",
       "       [0.743515  ]])"
      ]
     },
     "execution_count": 8,
     "metadata": {},
     "output_type": "execute_result"
    }
   ],
   "source": [
    "#Scale the data\n",
    "scaler = MinMaxScaler(feature_range=(0,1))\n",
    "scaled_data = scaler.fit_transform(dataset)\n",
    "scaled_data"
   ]
  },
  {
   "cell_type": "code",
   "execution_count": 9,
   "metadata": {},
   "outputs": [
    {
     "name": "stdout",
     "output_type": "stream",
     "text": [
      "[array([0.        , 0.00139952, 0.0007603 , 0.00015328, 0.00016328,\n",
      "       0.00024769, 0.00034377, 0.00331664, 0.00297176, 0.00393921,\n",
      "       0.00353157, 0.0031256 , 0.00376927, 0.0024064 , 0.00276294,\n",
      "       0.00189491, 0.00262244, 0.0029029 , 0.00521821, 0.00498552,\n",
      "       0.00793506, 0.01068246, 0.01485214, 0.01578904, 0.01376196,\n",
      "       0.01562132, 0.01489157, 0.01708471, 0.01856087, 0.02597111,\n",
      "       0.02738452, 0.02765887, 0.03214067, 0.030524  , 0.03142869,\n",
      "       0.03446432, 0.02741451, 0.02935218, 0.02763277, 0.02617493,\n",
      "       0.03048346, 0.03239003, 0.03126152, 0.03312033, 0.03191574,\n",
      "       0.02987533, 0.02932385, 0.02917613, 0.03193574, 0.03432214,\n",
      "       0.03652583, 0.03493804, 0.03413832, 0.03217399, 0.03067117,\n",
      "       0.03061563, 0.04037396, 0.03473256, 0.03279766, 0.03041459])]\n",
      "[0.03245722574941021]\n",
      "\n"
     ]
    }
   ],
   "source": [
    "#Create the scaled training data set\n",
    "train_data = scaled_data[0:training_data_len , :]\n",
    "#Split the data into x_train and y_train data sets\n",
    "x_train = []\n",
    "y_train = []\n",
    "\n",
    "for i in range(60, len(train_data)):\n",
    "    x_train.append(train_data[i-60:i, 0])\n",
    "    y_train.append(train_data[i, 0])\n",
    "    if i<= 60:\n",
    "        print(x_train)\n",
    "        print(y_train)\n",
    "        print()"
   ]
  },
  {
   "cell_type": "code",
   "execution_count": 10,
   "metadata": {},
   "outputs": [],
   "source": [
    "#Convert the x_train and y_train to numpy arrays\n",
    "x_train, y_train = np.array(x_train), np.array(y_train)"
   ]
  },
  {
   "cell_type": "markdown",
   "metadata": {},
   "source": [
    "### Reshape the data because LSTM network expects the input to be 3-dimensional in the form of number of samples, number of time steps and number of features and right now our x train dataset is a 2-dimensional"
   ]
  },
  {
   "cell_type": "code",
   "execution_count": 11,
   "metadata": {},
   "outputs": [
    {
     "data": {
      "text/plain": [
       "(1908, 60, 1)"
      ]
     },
     "execution_count": 11,
     "metadata": {},
     "output_type": "execute_result"
    }
   ],
   "source": [
    "#Reshape the data\n",
    "x_train = np.reshape(x_train, (x_train.shape[0], x_train.shape[1], 1))\n",
    "x_train.shape"
   ]
  },
  {
   "cell_type": "code",
   "execution_count": 12,
   "metadata": {},
   "outputs": [],
   "source": [
    "#Build the LSTM model\n",
    "model = Sequential()\n",
    "model.add(LSTM(50, return_sequences=True, input_shape=(x_train.shape[1], 1)))\n",
    "model.add(LSTM(50, return_sequences=False))\n",
    "model.add(Dense(25))\n",
    "model.add(Dense(1))"
   ]
  },
  {
   "cell_type": "code",
   "execution_count": 13,
   "metadata": {},
   "outputs": [],
   "source": [
    "#Compile the model\n",
    "model.compile(optimizer='adam', loss='mean_squared_error')"
   ]
  },
  {
   "cell_type": "code",
   "execution_count": 14,
   "metadata": {},
   "outputs": [
    {
     "name": "stdout",
     "output_type": "stream",
     "text": [
      "Model: \"sequential\"\n",
      "_________________________________________________________________\n",
      "Layer (type)                 Output Shape              Param #   \n",
      "=================================================================\n",
      "lstm (LSTM)                  (None, 60, 50)            10400     \n",
      "_________________________________________________________________\n",
      "lstm_1 (LSTM)                (None, 50)                20200     \n",
      "_________________________________________________________________\n",
      "dense (Dense)                (None, 25)                1275      \n",
      "_________________________________________________________________\n",
      "dense_1 (Dense)              (None, 1)                 26        \n",
      "=================================================================\n",
      "Total params: 31,901\n",
      "Trainable params: 31,901\n",
      "Non-trainable params: 0\n",
      "_________________________________________________________________\n"
     ]
    }
   ],
   "source": [
    "model.summary()"
   ]
  },
  {
   "cell_type": "code",
   "execution_count": 15,
   "metadata": {},
   "outputs": [
    {
     "name": "stdout",
     "output_type": "stream",
     "text": [
      "Epoch 1/100\n",
      "30/30 [==============================] - 3s 101ms/step - loss: 0.0219\n",
      "Epoch 2/100\n",
      "30/30 [==============================] - 3s 95ms/step - loss: 8.5928e-04\n",
      "Epoch 3/100\n",
      "30/30 [==============================] - 3s 88ms/step - loss: 4.4213e-04: 0s - loss: 4.4213e-0\n",
      "Epoch 4/100\n",
      "30/30 [==============================] - 3s 91ms/step - loss: 4.1158e-04\n",
      "Epoch 5/100\n",
      "30/30 [==============================] - 3s 87ms/step - loss: 4.1842e-04\n",
      "Epoch 6/100\n",
      "30/30 [==============================] - 3s 86ms/step - loss: 4.1220e-04\n",
      "Epoch 7/100\n",
      "30/30 [==============================] - 3s 94ms/step - loss: 4.2087e-04\n",
      "Epoch 8/100\n",
      "30/30 [==============================] - 3s 95ms/step - loss: 3.9444e-04\n",
      "Epoch 9/100\n",
      "30/30 [==============================] - 3s 99ms/step - loss: 3.8231e-04\n",
      "Epoch 10/100\n",
      "30/30 [==============================] - 3s 87ms/step - loss: 3.7399e-04\n",
      "Epoch 11/100\n",
      "30/30 [==============================] - 3s 91ms/step - loss: 3.6984e-04\n",
      "Epoch 12/100\n",
      "30/30 [==============================] - 3s 86ms/step - loss: 3.6444e-04\n",
      "Epoch 13/100\n",
      "30/30 [==============================] - 2s 83ms/step - loss: 3.5864e-04\n",
      "Epoch 14/100\n",
      "30/30 [==============================] - 3s 91ms/step - loss: 3.4741e-04\n",
      "Epoch 15/100\n",
      "30/30 [==============================] - 3s 89ms/step - loss: 3.4017e-04\n",
      "Epoch 16/100\n",
      "30/30 [==============================] - 2s 81ms/step - loss: 3.4511e-04\n",
      "Epoch 17/100\n",
      "30/30 [==============================] - 3s 89ms/step - loss: 3.2870e-04\n",
      "Epoch 18/100\n",
      "30/30 [==============================] - 3s 86ms/step - loss: 3.3472e-04\n",
      "Epoch 19/100\n",
      "30/30 [==============================] - 3s 85ms/step - loss: 3.1158e-04\n",
      "Epoch 20/100\n",
      "30/30 [==============================] - 3s 91ms/step - loss: 3.0585e-04\n",
      "Epoch 21/100\n",
      "30/30 [==============================] - 3s 84ms/step - loss: 3.0233e-04\n",
      "Epoch 22/100\n",
      "30/30 [==============================] - 3s 90ms/step - loss: 2.7793e-04\n",
      "Epoch 23/100\n",
      "30/30 [==============================] - 3s 89ms/step - loss: 2.6889e-04\n",
      "Epoch 24/100\n",
      "30/30 [==============================] - 3s 88ms/step - loss: 2.6283e-04\n",
      "Epoch 25/100\n",
      "30/30 [==============================] - 3s 84ms/step - loss: 2.6410e-04\n",
      "Epoch 26/100\n",
      "30/30 [==============================] - 3s 94ms/step - loss: 2.7271e-04\n",
      "Epoch 27/100\n",
      "30/30 [==============================] - 3s 89ms/step - loss: 2.7478e-04\n",
      "Epoch 28/100\n",
      "30/30 [==============================] - 3s 88ms/step - loss: 2.5772e-04\n",
      "Epoch 29/100\n",
      "30/30 [==============================] - 3s 91ms/step - loss: 2.4246e-04\n",
      "Epoch 30/100\n",
      "30/30 [==============================] - 2s 82ms/step - loss: 2.4734e-04\n",
      "Epoch 31/100\n",
      "30/30 [==============================] - 3s 90ms/step - loss: 2.3935e-04\n",
      "Epoch 32/100\n",
      "30/30 [==============================] - 3s 93ms/step - loss: 2.5125e-04\n",
      "Epoch 33/100\n",
      "30/30 [==============================] - 3s 86ms/step - loss: 2.3337e-04\n",
      "Epoch 34/100\n",
      "30/30 [==============================] - 3s 85ms/step - loss: 2.1238e-04\n",
      "Epoch 35/100\n",
      "30/30 [==============================] - 3s 91ms/step - loss: 2.1235e-04\n",
      "Epoch 36/100\n",
      "30/30 [==============================] - 2s 83ms/step - loss: 2.2717e-04\n",
      "Epoch 37/100\n",
      "30/30 [==============================] - 3s 88ms/step - loss: 2.2251e-04\n",
      "Epoch 38/100\n",
      "30/30 [==============================] - 3s 91ms/step - loss: 2.1284e-04\n",
      "Epoch 39/100\n",
      "30/30 [==============================] - 3s 88ms/step - loss: 2.1858e-04\n",
      "Epoch 40/100\n",
      "30/30 [==============================] - 3s 85ms/step - loss: 2.2382e-04\n",
      "Epoch 41/100\n",
      "30/30 [==============================] - 3s 89ms/step - loss: 1.9014e-04\n",
      "Epoch 42/100\n",
      "30/30 [==============================] - 3s 85ms/step - loss: 1.8328e-04\n",
      "Epoch 43/100\n",
      "30/30 [==============================] - 3s 87ms/step - loss: 1.8553e-04\n",
      "Epoch 44/100\n",
      "30/30 [==============================] - 3s 91ms/step - loss: 1.9429e-04\n",
      "Epoch 45/100\n",
      "30/30 [==============================] - 2s 83ms/step - loss: 1.9147e-04\n",
      "Epoch 46/100\n",
      "30/30 [==============================] - 3s 89ms/step - loss: 2.1664e-04\n",
      "Epoch 47/100\n",
      "30/30 [==============================] - 3s 89ms/step - loss: 2.1293e-04\n",
      "Epoch 48/100\n",
      "30/30 [==============================] - 2s 83ms/step - loss: 1.9492e-04\n",
      "Epoch 49/100\n",
      "30/30 [==============================] - 3s 86ms/step - loss: 1.8485e-04\n",
      "Epoch 50/100\n",
      "30/30 [==============================] - 3s 85ms/step - loss: 1.9132e-04\n",
      "Epoch 51/100\n",
      "30/30 [==============================] - 3s 90ms/step - loss: 1.7259e-04\n",
      "Epoch 52/100\n",
      "30/30 [==============================] - 3s 92ms/step - loss: 1.5613e-04\n",
      "Epoch 53/100\n",
      "30/30 [==============================] - 3s 89ms/step - loss: 1.6343e-04\n",
      "Epoch 54/100\n",
      "30/30 [==============================] - 3s 87ms/step - loss: 1.6594e-04\n",
      "Epoch 55/100\n",
      "30/30 [==============================] - 3s 98ms/step - loss: 1.7155e-04\n",
      "Epoch 56/100\n",
      "30/30 [==============================] - 2s 79ms/step - loss: 1.5344e-04\n",
      "Epoch 57/100\n",
      "30/30 [==============================] - 3s 86ms/step - loss: 1.6146e-04:  - ETA: 0s - loss: 1.6387\n",
      "Epoch 58/100\n",
      "30/30 [==============================] - 2s 81ms/step - loss: 1.5247e-04: 1s - lo\n",
      "Epoch 59/100\n",
      "30/30 [==============================] - 2s 81ms/step - loss: 1.5607e-04\n",
      "Epoch 60/100\n",
      "30/30 [==============================] - 2s 81ms/step - loss: 1.4297e-04\n",
      "Epoch 61/100\n",
      "30/30 [==============================] - 3s 85ms/step - loss: 1.4485e-04\n",
      "Epoch 62/100\n",
      "30/30 [==============================] - 3s 86ms/step - loss: 1.4550e-04\n",
      "Epoch 63/100\n",
      "30/30 [==============================] - 2s 81ms/step - loss: 1.5982e-04\n",
      "Epoch 64/100\n",
      "30/30 [==============================] - 3s 87ms/step - loss: 1.8082e-04\n",
      "Epoch 65/100\n",
      "30/30 [==============================] - 2s 80ms/step - loss: 1.4393e-04\n",
      "Epoch 66/100\n",
      "30/30 [==============================] - 2s 81ms/step - loss: 1.4232e-04\n",
      "Epoch 67/100\n",
      "30/30 [==============================] - 3s 85ms/step - loss: 1.4541e-04\n",
      "Epoch 68/100\n",
      "30/30 [==============================] - 2s 83ms/step - loss: 1.4589e-04\n",
      "Epoch 69/100\n",
      "30/30 [==============================] - 3s 85ms/step - loss: 1.6423e-04\n",
      "Epoch 70/100\n",
      "30/30 [==============================] - 3s 86ms/step - loss: 1.3655e-04\n",
      "Epoch 71/100\n",
      "30/30 [==============================] - 3s 87ms/step - loss: 1.2686e-04\n",
      "Epoch 72/100\n",
      "30/30 [==============================] - 3s 86ms/step - loss: 1.3110e-04\n",
      "Epoch 73/100\n",
      "30/30 [==============================] - 3s 90ms/step - loss: 1.3662e-04\n",
      "Epoch 74/100\n",
      "30/30 [==============================] - 3s 83ms/step - loss: 1.3093e-04\n",
      "Epoch 75/100\n",
      "30/30 [==============================] - 3s 89ms/step - loss: 1.3395e-04\n",
      "Epoch 76/100\n",
      "30/30 [==============================] - 3s 96ms/step - loss: 1.4022e-04\n",
      "Epoch 77/100\n",
      "30/30 [==============================] - 3s 86ms/step - loss: 1.5193e-04\n",
      "Epoch 78/100\n",
      "30/30 [==============================] - 2s 82ms/step - loss: 1.2347e-04: 0s - loss:\n",
      "Epoch 79/100\n",
      "30/30 [==============================] - 3s 88ms/step - loss: 1.3731e-04\n",
      "Epoch 80/100\n",
      "30/30 [==============================] - 3s 88ms/step - loss: 1.3342e-04\n",
      "Epoch 81/100\n",
      "30/30 [==============================] - 2s 80ms/step - loss: 1.2518e-04\n",
      "Epoch 82/100\n",
      "30/30 [==============================] - 3s 91ms/step - loss: 1.2450e-04\n",
      "Epoch 83/100\n",
      "30/30 [==============================] - 3s 89ms/step - loss: 1.1843e-04\n",
      "Epoch 84/100\n",
      "30/30 [==============================] - 2s 81ms/step - loss: 1.2270e-04\n",
      "Epoch 85/100\n",
      "30/30 [==============================] - 3s 88ms/step - loss: 1.1482e-04\n",
      "Epoch 86/100\n",
      "30/30 [==============================] - 3s 89ms/step - loss: 1.3645e-04\n",
      "Epoch 87/100\n",
      "30/30 [==============================] - 2s 81ms/step - loss: 1.1885e-04\n",
      "Epoch 88/100\n",
      "30/30 [==============================] - 3s 88ms/step - loss: 1.4172e-04\n",
      "Epoch 89/100\n",
      "30/30 [==============================] - 3s 85ms/step - loss: 1.2120e-04\n",
      "Epoch 90/100\n",
      "30/30 [==============================] - 3s 84ms/step - loss: 1.3988e-04\n",
      "Epoch 91/100\n",
      "30/30 [==============================] - 3s 91ms/step - loss: 1.2961e-04: 0s - loss: 1.2861e-\n",
      "Epoch 92/100\n",
      "30/30 [==============================] - 3s 84ms/step - loss: 1.1956e-04\n",
      "Epoch 93/100\n",
      "30/30 [==============================] - 2s 82ms/step - loss: 1.3161e-04\n",
      "Epoch 94/100\n",
      "30/30 [==============================] - 3s 89ms/step - loss: 1.0518e-04\n",
      "Epoch 95/100\n",
      "30/30 [==============================] - 3s 85ms/step - loss: 1.1290e-04\n",
      "Epoch 96/100\n",
      "30/30 [==============================] - 2s 82ms/step - loss: 1.1236e-04\n",
      "Epoch 97/100\n",
      "30/30 [==============================] - 3s 89ms/step - loss: 1.1651e-04\n",
      "Epoch 98/100\n",
      "30/30 [==============================] - 2s 82ms/step - loss: 1.0743e-04\n",
      "Epoch 99/100\n",
      "30/30 [==============================] - 3s 85ms/step - loss: 1.0529e-04\n",
      "Epoch 100/100\n",
      "30/30 [==============================] - 3s 100ms/step - loss: 1.0476e-04\n"
     ]
    },
    {
     "data": {
      "text/plain": [
       "<tensorflow.python.keras.callbacks.History at 0x21f094335c8>"
      ]
     },
     "execution_count": 15,
     "metadata": {},
     "output_type": "execute_result"
    }
   ],
   "source": [
    "#Train the model\n",
    "model.fit(x_train, y_train, batch_size=64, epochs=100, verbose=1)"
   ]
  },
  {
   "cell_type": "code",
   "execution_count": 16,
   "metadata": {},
   "outputs": [],
   "source": [
    "#Create the testing data set\n",
    "#Create a new array containing scaled values from index 1908 to 2459\n",
    "test_data = scaled_data[training_data_len - 60: , :]\n",
    "#Create the data sets x_test and y_test\n",
    "x_test = []\n",
    "y_test = dataset[training_data_len:, :]\n",
    "\n",
    "for i in range(60, len(test_data)):\n",
    "    x_test.append(test_data[i-60:i, 0])"
   ]
  },
  {
   "cell_type": "code",
   "execution_count": 17,
   "metadata": {},
   "outputs": [],
   "source": [
    "#Convert the data to a numpy array\n",
    "x_test = np.array(x_test)"
   ]
  },
  {
   "cell_type": "code",
   "execution_count": 18,
   "metadata": {},
   "outputs": [
    {
     "data": {
      "text/plain": [
       "(491, 60, 1)"
      ]
     },
     "execution_count": 18,
     "metadata": {},
     "output_type": "execute_result"
    }
   ],
   "source": [
    "#Reshape the data\n",
    "x_test = np.reshape(x_test, (x_test.shape[0], x_test.shape[1], 1))\n",
    "x_test.shape"
   ]
  },
  {
   "cell_type": "code",
   "execution_count": 19,
   "metadata": {},
   "outputs": [],
   "source": [
    "#Get the models predicted price values\n",
    "predictions = model.predict(x_test)\n",
    "predictions = scaler.inverse_transform(predictions)"
   ]
  },
  {
   "cell_type": "code",
   "execution_count": 20,
   "metadata": {},
   "outputs": [
    {
     "data": {
      "text/plain": [
       "490.26066700611"
      ]
     },
     "execution_count": 20,
     "metadata": {},
     "output_type": "execute_result"
    }
   ],
   "source": [
    "#Get the root mean squared error (RMSE)\n",
    "rmse = np.sqrt(np.mean(predictions - y_test)**2)\n",
    "rmse"
   ]
  },
  {
   "cell_type": "code",
   "execution_count": 21,
   "metadata": {},
   "outputs": [
    {
     "name": "stderr",
     "output_type": "stream",
     "text": [
      "C:\\Users\\TERMINATOR\\Anaconda3\\lib\\site-packages\\ipykernel_launcher.py:4: SettingWithCopyWarning: \n",
      "A value is trying to be set on a copy of a slice from a DataFrame.\n",
      "Try using .loc[row_indexer,col_indexer] = value instead\n",
      "\n",
      "See the caveats in the documentation: http://pandas.pydata.org/pandas-docs/stable/user_guide/indexing.html#returning-a-view-versus-a-copy\n",
      "  after removing the cwd from sys.path.\n"
     ]
    },
    {
     "data": {
      "image/png": "[encoded data removed]",
      "text/plain": [
       "<Figure size 1152x576 with 1 Axes>"
      ]
     },
     "metadata": {
      "needs_background": "light"
     },
     "output_type": "display_data"
    }
   ],
   "source": [
    "#Plot the data\n",
    "train = data[:training_data_len]\n",
    "valid = data[training_data_len:]\n",
    "valid['Predictions'] = predictions\n",
    "#Visualize the data\n",
    "plt.figure(figsize=(16,8))\n",
    "plt.title('Model')\n",
    "plt.xlabel('Date',fontsize=18)\n",
    "plt.ylabel('Close Price (INR)',fontsize=18)\n",
    "plt.plot(train['Close'])\n",
    "plt.plot(valid[['Close','Predictions']])\n",
    "plt.legend(['Train','Val','Predictions'],loc='lower right')\n",
    "plt.show()"
   ]
  },
  {
   "cell_type": "code",
   "execution_count": 22,
   "metadata": {},
   "outputs": [
    {
     "data": {
      "text/html": [
       "<div>\n",
       "<style scoped>\n",
       "    .dataframe tbody tr th:only-of-type {\n",
       "        vertical-align: middle;\n",
       "    }\n",
       "\n",
       "    .dataframe tbody tr th {\n",
       "        vertical-align: top;\n",
       "    }\n",
       "\n",
       "    .dataframe thead th {\n",
       "        text-align: right;\n",
       "    }\n",
       "</style>\n",
       "<table border=\"1\" class=\"dataframe\">\n",
       "  <thead>\n",
       "    <tr style=\"text-align: right;\">\n",
       "      <th></th>\n",
       "      <th>Close</th>\n",
       "      <th>Predictions</th>\n",
       "    </tr>\n",
       "    <tr>\n",
       "      <th>Date</th>\n",
       "      <th></th>\n",
       "      <th></th>\n",
       "    </tr>\n",
       "  </thead>\n",
       "  <tbody>\n",
       "    <tr>\n",
       "      <td>2019-12-16</td>\n",
       "      <td>64254.25</td>\n",
       "      <td>63998.566406</td>\n",
       "    </tr>\n",
       "    <tr>\n",
       "      <td>2019-12-17</td>\n",
       "      <td>64703.75</td>\n",
       "      <td>64714.714844</td>\n",
       "    </tr>\n",
       "    <tr>\n",
       "      <td>2019-12-18</td>\n",
       "      <td>64126.90</td>\n",
       "      <td>65264.765625</td>\n",
       "    </tr>\n",
       "    <tr>\n",
       "      <td>2019-12-19</td>\n",
       "      <td>64080.05</td>\n",
       "      <td>65156.464844</td>\n",
       "    </tr>\n",
       "    <tr>\n",
       "      <td>2019-12-20</td>\n",
       "      <td>63765.20</td>\n",
       "      <td>64911.800781</td>\n",
       "    </tr>\n",
       "    <tr>\n",
       "      <td>...</td>\n",
       "      <td>...</td>\n",
       "      <td>...</td>\n",
       "    </tr>\n",
       "    <tr>\n",
       "      <td>2021-11-29</td>\n",
       "      <td>73818.25</td>\n",
       "      <td>75891.421875</td>\n",
       "    </tr>\n",
       "    <tr>\n",
       "      <td>2021-11-30</td>\n",
       "      <td>74630.80</td>\n",
       "      <td>74896.140625</td>\n",
       "    </tr>\n",
       "    <tr>\n",
       "      <td>2021-12-01</td>\n",
       "      <td>73708.60</td>\n",
       "      <td>74879.054688</td>\n",
       "    </tr>\n",
       "    <tr>\n",
       "      <td>2021-12-02</td>\n",
       "      <td>73881.70</td>\n",
       "      <td>74512.523438</td>\n",
       "    </tr>\n",
       "    <tr>\n",
       "      <td>2021-12-03</td>\n",
       "      <td>73882.30</td>\n",
       "      <td>74429.648438</td>\n",
       "    </tr>\n",
       "  </tbody>\n",
       "</table>\n",
       "<p>491 rows × 2 columns</p>\n",
       "</div>"
      ],
      "text/plain": [
       "               Close   Predictions\n",
       "Date                              \n",
       "2019-12-16  64254.25  63998.566406\n",
       "2019-12-17  64703.75  64714.714844\n",
       "2019-12-18  64126.90  65264.765625\n",
       "2019-12-19  64080.05  65156.464844\n",
       "2019-12-20  63765.20  64911.800781\n",
       "...              ...           ...\n",
       "2021-11-29  73818.25  75891.421875\n",
       "2021-11-30  74630.80  74896.140625\n",
       "2021-12-01  73708.60  74879.054688\n",
       "2021-12-02  73881.70  74512.523438\n",
       "2021-12-03  73882.30  74429.648438\n",
       "\n",
       "[491 rows x 2 columns]"
      ]
     },
     "execution_count": 22,
     "metadata": {},
     "output_type": "execute_result"
    }
   ],
   "source": [
    "#Show the valid and predicted prices\n",
    "valid"
   ]
  },
  {
   "cell_type": "code",
   "execution_count": 23,
   "metadata": {},
   "outputs": [
    {
     "name": "stdout",
     "output_type": "stream",
     "text": [
      "[[74462.47]]\n"
     ]
    }
   ],
   "source": [
    "#Get the quote\n",
    "mrf_quote = get_history(symbol='MRF', start=date(2012,1,1), end=date(2021,12,3))\n",
    "#Create a new dataframe\n",
    "new_df = mrf_quote.filter(['Close'])\n",
    "#Get the last 60 days closing price values and convert the dataframe to an array\n",
    "last_60_days = new_df[-60:].values\n",
    "#Scale the data for values between 0 and 1\n",
    "last_60_days_scaled = scaler.transform(last_60_days)\n",
    "#Create an empty list\n",
    "X_test = []\n",
    "#Append the past 60 days\n",
    "X_test.append(last_60_days_scaled)\n",
    "#Convert the X_test data set to a numpy array\n",
    "X_test = np.array(X_test)\n",
    "#Reshape the data\n",
    "X_test = np.reshape(X_test, (X_test.shape[0], X_test.shape[1], 1))\n",
    "#Get the predicted scaled price\n",
    "pred_price = model.predict(X_test)\n",
    "#Undo the scaling\n",
    "pred_price = scaler.inverse_transform(pred_price)\n",
    "print(pred_price)"
   ]
  },
  {
   "cell_type": "code",
   "execution_count": 25,
   "metadata": {},
   "outputs": [
    {
     "name": "stdout",
     "output_type": "stream",
     "text": [
      "Date\n",
      "2021-12-06    73129.05\n",
      "Name: Close, dtype: float64\n"
     ]
    }
   ],
   "source": [
    "#Get the quote\n",
    "mrf_quote2 = get_history(symbol='MRF', start=date(2021,12,6), end=date(2021,12,6))\n",
    "print(mrf_quote2['Close'])"
   ]
  },
  {
   "cell_type": "code",
   "execution_count": null,
   "metadata": {},
   "outputs": [],
   "source": []
  }
 ],
 "metadata": {
  "kernelspec": {
   "display_name": "Python 3",
   "language": "python",
   "name": "python3"
  },
  "language_info": {
   "codemirror_mode": {
    "name": "ipython",
    "version": 3
   },
   "file_extension": ".py",
   "mimetype": "text/x-python",
   "name": "python",
   "nbconvert_exporter": "python",
   "pygments_lexer": "ipython3",
   "version": "3.7.4"
  }
 },
 "nbformat": 4,
 "nbformat_minor": 2
}
